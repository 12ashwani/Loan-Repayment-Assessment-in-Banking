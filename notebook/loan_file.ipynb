{
  "cells": [
    {
      "cell_type": "markdown",
      "metadata": {
        "id": "stmus-q_hX8m"
      },
      "source": [
        "# Loan Repayment Assessment in Banking\n",
        "### Problem Statement:\n",
        "Welcome to KnowledgeHut AI hackathon – Loan Repayment Assessment in Banking. You are required\n",
        "to build and train a model that identifies a customer will repay or default from the loan dataset. This\n",
        "dataset is included in loan data, and provides a challenging classifier that will test what you have learnt\n",
        "in this course.\n",
        "Task:\n",
        "Your task is to build this model based on the details in this document and submit it. Please read the\n",
        "details carefully before attempting this hackathon.\n",
        "You will need to decide the following:\n",
        "1. Use the specific source or dataset for assess loan repayment shared with you\n",
        "2. What is your intended data split ratio for training, validation, and test sets for the loan dataset? How\n",
        "do you plan to ensure randomness in this split?\n",
        "3. Do you plan to explore the importance of these components further?\n",
        "4. Do you anticipate class imbalance in the 'loan_status' feature, where\n",
        "Paid: Applicant has fully paid the loan (the principal and the interest rate)\n",
        "Defaulted: Applicant has not paid the installments in due time for a long period of time, i.e. Client\n",
        "has defaulted on the loan\n",
        "If so, how will you address this imbalance?\n",
        "5. Will you normalize the features? If yes, what normalization techniques do you have in mind?\n",
        "6. Do you intend to perform data preprocessing tasks such as outlier detection, missing value handling,\n",
        "or feature selection before training your model."
      ]
    },
    {
      "cell_type": "code",
      "execution_count": null,
      "metadata": {},
      "outputs": [
        {
          "ename": "",
          "evalue": "",
          "output_type": "error",
          "traceback": [
            "\u001b[1;31mFailed to start the Kernel. \n",
            "\u001b[1;31mTypeError: type 'List' is not subscriptable. \n",
            "\u001b[1;31mView Jupyter <a href='command:jupyter.viewOutput'>log</a> for further details."
          ]
        }
      ],
      "source": []
    },
    {
      "cell_type": "markdown",
      "metadata": {
        "id": "dcEAK7tOh-99"
      },
      "source": [
        "\n",
        "* ✓Statistics descriptive analysis\n",
        "* ✓EDA\n",
        "* ✓Data preprocessing\n",
        "* ✓Feature scaling\n",
        "* ✓Feature engineering\n",
        "* ✓Feature selection\n",
        "* ✓Build model\n",
        "* ✓Ensemble techniques - Bagging, Boosting\n",
        "* ✓Cross validation\n",
        "* ✓Grid search, Tuning Hyper parameters\n",
        "*\n",
        "\n",
        "```\n",
        "# This is formatted as code\n",
        "```\n",
        "\n",
        "✓Evaluation metric: F1 - Score"
      ]
    },
    {
      "cell_type": "markdown",
      "metadata": {
        "id": "gh-NO9k8i0AW"
      },
      "source": [
        "## Data Description of Features\n",
        "\n",
        "### Column Descriptions\n",
        "\n",
        "- **earliest_cr_line**: The month the borrower's earliest reported credit line was opened.\n",
        "- **emp_title**: The job title supplied by the Borrower when applying for the loan.\n",
        "- **fico_range_high**: The upper boundary range the borrower’s FICO at loan origination belongs to.\n",
        "- **fico_range_low**: The lower boundary range the borrower’s FICO at loan origination belongs to.\n",
        "- **Grade**: LC assigned loan grade.\n",
        "- **application_type**: Indicates whether the loan is an individual application or a joint application with two co-borrowers.\n",
        "- **initial_list_status**: The initial listing status of the loan. Possible values are – W, F.\n",
        "- **num_actv_bc_tl**: Number of currently active bankcard accounts.\n",
        "- **mort_acc**: Number of mortgage accounts.\n",
        "- **tot_cur_bal**: Total current balance of all accounts.\n",
        "- **open_acc**: The number of open credit lines in the borrower's credit file.\n",
        "- **pub_rec**: Number of derogatory public records.\n",
        "- **pub_rec_bankruptcies**: Number of public record bankruptcies.\n",
        "- **Purpose**: A category provided by the borrower for the loan request.\n",
        "- **revol_bal**: Total credit revolving balance.\n",
        "- **Title**: The loan title provided by the borrower.\n",
        "- **total_acc**: The total number of credit lines currently in the borrower's credit file.\n",
        "- **verification_status**: Indicates if income was verified by LC, not verified, or if the income source was verified.\n",
        "- **addr_state**: The state provided by the borrower in the loan application.\n",
        "- **annual_inc**: The self-reported annual income provided by the borrower during registration.\n",
        "- **emp_length**: Employment length in years. Possible values are between 0 and 10 where 0 means less than one year and 10 means ten or more years.\n",
        "- **home_ownership**: The home ownership status provided by the borrower during registration. Our values are: RENT, OWN, MORTGAGE, OTHER.\n",
        "- **int_rate**: Interest Rate on the loan.\n",
        "- **loan_amnt**: The listed amount of the loan applied for by the borrower. If at some point in time, the credit department reduces the loan amount, then it will be reflected in this value.\n",
        "- **sub_grade**: LC assigned loan subgrade.\n",
        "- **Term**: The number of payments on the loan. Values are in months and can be either 36 or 60.\n",
        "- **revol_util**: Revolving line utilization rate, or the amount of credit the borrower is using relative to all available revolving credit.\n",
        "\n",
        "### Target\n",
        "\n",
        "- **loan_status**: Status of the loan.\n",
        "\n",
        "### Test Data\n",
        "\n",
        "- **test_loan_data.csv**: This dataset can be used to test model.\n"
      ]
    },
    {
      "cell_type": "markdown",
      "metadata": {
        "id": "3HJuY3mijyen"
      },
      "source": [
        "# import the import libraries for machine learning model trainning"
      ]
    },
    {
      "cell_type": "code",
      "execution_count": null,
      "metadata": {
        "id": "9tXGJxYWfQ1v"
      },
      "outputs": [
        {
          "ename": "",
          "evalue": "",
          "output_type": "error",
          "traceback": [
            "\u001b[1;31mFailed to start the Kernel. \n",
            "\u001b[1;31mTypeError: type 'List' is not subscriptable. \n",
            "\u001b[1;31mView Jupyter <a href='command:jupyter.viewOutput'>log</a> for further details."
          ]
        }
      ],
      "source": [
        "import numpy as np\n",
        "import pandas as pd\n",
        "import matplotlib.pyplot as plt\n",
        "import seaborn as sns\n",
        "import warnings\n",
        "warnings.filterwarnings('ignore')\n",
        "import matplotlib.pyplot as plt\n",
        "import seaborn as sns\n"
      ]
    },
    {
      "cell_type": "code",
      "execution_count": null,
      "metadata": {
        "colab": {
          "base_uri": "https://localhost:8080/",
          "height": 359
        },
        "id": "SZgvHQRAfpuG",
        "outputId": "5d5f5225-49c3-4a87-8d90-ecae175e9427"
      },
      "outputs": [
        {
          "ename": "",
          "evalue": "",
          "output_type": "error",
          "traceback": [
            "\u001b[1;31mFailed to start the Kernel. \n",
            "\u001b[1;31mTypeError: type 'List' is not subscriptable. \n",
            "\u001b[1;31mView Jupyter <a href='command:jupyter.viewOutput'>log</a> for further details."
          ]
        }
      ],
      "source": [
        "df = pd.read_csv('train_loan_data (1).csv')\n",
        "df.head()"
      ]
    },
    {
      "cell_type": "markdown",
      "metadata": {
        "id": "l7-_NRCpjbOB"
      },
      "source": [
        "# Statistics descriptive analysis\n"
      ]
    },
    {
      "cell_type": "code",
      "execution_count": null,
      "metadata": {
        "colab": {
          "base_uri": "https://localhost:8080/"
        },
        "id": "R5HHScQufypa",
        "outputId": "0e86119c-90f2-48b8-faf2-118bbcec38c5"
      },
      "outputs": [
        {
          "ename": "",
          "evalue": "",
          "output_type": "error",
          "traceback": [
            "\u001b[1;31mFailed to start the Kernel. \n",
            "\u001b[1;31mTypeError: type 'List' is not subscriptable. \n",
            "\u001b[1;31mView Jupyter <a href='command:jupyter.viewOutput'>log</a> for further details."
          ]
        }
      ],
      "source": [
        "df.shape"
      ]
    },
    {
      "cell_type": "markdown",
      "metadata": {
        "id": "fP9Oh9UTjwy1"
      },
      "source": [
        "here we find the shape of the trainig data this data set have total number of rows is equale to 80000 and number of columns 28"
      ]
    },
    {
      "cell_type": "code",
      "execution_count": null,
      "metadata": {
        "colab": {
          "base_uri": "https://localhost:8080/",
          "height": 488
        },
        "id": "sEIuXkgjmr5Y",
        "outputId": "438dd65d-0848-4907-8489-5729e9cf8049"
      },
      "outputs": [
        {
          "ename": "",
          "evalue": "",
          "output_type": "error",
          "traceback": [
            "\u001b[1;31mFailed to start the Kernel. \n",
            "\u001b[1;31mTypeError: type 'List' is not subscriptable. \n",
            "\u001b[1;31mView Jupyter <a href='command:jupyter.viewOutput'>log</a> for further details."
          ]
        }
      ],
      "source": [
        "# know here we using the describe function to find the statistical summary of the entire numerical data from the total data\n",
        "df.describe().T"
      ]
    },
    {
      "cell_type": "code",
      "execution_count": null,
      "metadata": {
        "colab": {
          "base_uri": "https://localhost:8080/"
        },
        "id": "roQP16ZRgbWS",
        "outputId": "71ea5b81-472d-4c76-f7c9-d65833cfdcfe"
      },
      "outputs": [
        {
          "ename": "",
          "evalue": "",
          "output_type": "error",
          "traceback": [
            "\u001b[1;31mFailed to start the Kernel. \n",
            "\u001b[1;31mTypeError: type 'List' is not subscriptable. \n",
            "\u001b[1;31mView Jupyter <a href='command:jupyter.viewOutput'>log</a> for further details."
          ]
        }
      ],
      "source": [
        "# here we usinhg the shape function for getting the more information about the data\n",
        "df.info()"
      ]
    },
    {
      "cell_type": "markdown",
      "metadata": {
        "id": "prmV-mMfkqkT"
      },
      "source": [
        "in this data set we can easily see the number of values is missing into the given data set missing values three columns have objects data type ,and  five columns have float dta types so the total number of columns which have missing values is eight columns"
      ]
    },
    {
      "cell_type": "code",
      "execution_count": null,
      "metadata": {
        "colab": {
          "base_uri": "https://localhost:8080/",
          "height": 178
        },
        "id": "v7gNAK_xzY0f",
        "outputId": "760f9264-f434-470f-fccd-169b80e7decb"
      },
      "outputs": [
        {
          "ename": "",
          "evalue": "",
          "output_type": "error",
          "traceback": [
            "\u001b[1;31mFailed to start the Kernel. \n",
            "\u001b[1;31mTypeError: type 'List' is not subscriptable. \n",
            "\u001b[1;31mView Jupyter <a href='command:jupyter.viewOutput'>log</a> for further details."
          ]
        }
      ],
      "source": [
        "df['loan_status'].value_counts()"
      ]
    },
    {
      "cell_type": "markdown",
      "metadata": {
        "id": "4yjgp_Em0Cq2"
      },
      "source": [
        "### convert the loan status into the 0 and 1"
      ]
    },
    {
      "cell_type": "markdown",
      "metadata": {
        "id": "IzM75GXziYfd"
      },
      "source": [
        "## EDA (Exploratory Data Analysis)\n",
        "\n",
        "EDA is primarily about understanding the dataset. It involves:\n",
        "\n",
        "### Understanding the Data Structure\n",
        "- Getting to know the types of data, such as numerical, categorical, and the distribution of data.\n",
        "\n",
        "### Identifying Patterns and Relationships\n",
        "- Using visualizations and statistical methods to uncover patterns, trends, and relationships between variables.\n",
        "\n",
        "### Detecting  Outliers\n",
        "- Finding unusual data points that might need special attention.\n"
      ]
    },
    {
      "cell_type": "markdown",
      "metadata": {
        "id": "iFHEmYV6hSVL"
      },
      "source": [
        "### *Understanding the Data Structure*\n"
      ]
    },
    {
      "cell_type": "markdown",
      "metadata": {
        "id": "ouJd0S1ThYX3"
      },
      "source": [
        "## finding the null values into the dataset"
      ]
    },
    {
      "cell_type": "code",
      "execution_count": null,
      "metadata": {
        "colab": {
          "base_uri": "https://localhost:8080/",
          "height": 962
        },
        "id": "BuiCKipCknhp",
        "outputId": "13d6458d-e8db-4099-9119-25808bfffba2"
      },
      "outputs": [
        {
          "ename": "",
          "evalue": "",
          "output_type": "error",
          "traceback": [
            "\u001b[1;31mFailed to start the Kernel. \n",
            "\u001b[1;31mTypeError: type 'List' is not subscriptable. \n",
            "\u001b[1;31mView Jupyter <a href='command:jupyter.viewOutput'>log</a> for further details."
          ]
        }
      ],
      "source": [
        "# know here we check the total number of missing values into the dataset into the percentage\n",
        "df.isnull().sum()/df.shape[0]*100"
      ]
    },
    {
      "cell_type": "markdown",
      "metadata": {
        "id": "4lhQDGPEmFtU"
      },
      "source": [
        "We can easily see the percentage of missing values ​​in the total values."
      ]
    },
    {
      "cell_type": "markdown",
      "metadata": {
        "id": "RtrnlcS9he2f"
      },
      "source": [
        "## Here we further differentiate between numerical values ​​and categorical values\n"
      ]
    },
    {
      "cell_type": "code",
      "execution_count": null,
      "metadata": {
        "id": "43HIfUcQrVFl"
      },
      "outputs": [
        {
          "ename": "",
          "evalue": "",
          "output_type": "error",
          "traceback": [
            "\u001b[1;31mFailed to start the Kernel. \n",
            "\u001b[1;31mTypeError: type 'List' is not subscriptable. \n",
            "\u001b[1;31mView Jupyter <a href='command:jupyter.viewOutput'>log</a> for further details."
          ]
        }
      ],
      "source": [
        "# Here we further differentiate between numerical values ​​and categorical values## calc#ulation\n",
        "numerical_columns = df.select_dtypes(include=['float64','int64']).columns\n",
        "categorical_columns = df.select_dtypes(include=['object']).columns"
      ]
    },
    {
      "cell_type": "markdown",
      "metadata": {
        "id": "mvtunmnBsgd-"
      },
      "source": [
        "here into the plot we can easily see the most off the numerical features affacted by the outlire so we use the meadian not mean"
      ]
    },
    {
      "cell_type": "markdown",
      "metadata": {
        "id": "Z7UKoiClihIR"
      },
      "source": [
        "### cheching the duplicate values into the dataset"
      ]
    },
    {
      "cell_type": "code",
      "execution_count": null,
      "metadata": {
        "colab": {
          "base_uri": "https://localhost:8080/"
        },
        "id": "NPynTpwBvkrw",
        "outputId": "84a22bc4-6630-4207-bd4e-4b6d38ae43c1"
      },
      "outputs": [
        {
          "ename": "",
          "evalue": "",
          "output_type": "error",
          "traceback": [
            "\u001b[1;31mFailed to start the Kernel. \n",
            "\u001b[1;31mTypeError: type 'List' is not subscriptable. \n",
            "\u001b[1;31mView Jupyter <a href='command:jupyter.viewOutput'>log</a> for further details."
          ]
        }
      ],
      "source": [
        "# here check the duplicated values\n",
        "df.duplicated().sum()"
      ]
    },
    {
      "cell_type": "markdown",
      "metadata": {
        "id": "Ck5H3eVJvwM3"
      },
      "source": [
        "This dataset did not have any duplicate values"
      ]
    },
    {
      "cell_type": "markdown",
      "metadata": {
        "id": "essK35UNiNuT"
      },
      "source": [
        "## Identifying Patterns and Relationships\n"
      ]
    },
    {
      "cell_type": "markdown",
      "metadata": {
        "id": "hi5gHtoFxPbP"
      },
      "source": [
        "# Using the sweetviz\n",
        "Here we import sweetviz to analysis the the data"
      ]
    },
    {
      "cell_type": "code",
      "execution_count": null,
      "metadata": {
        "colab": {
          "base_uri": "https://localhost:8080/"
        },
        "id": "0rxhEBhDwzSR",
        "outputId": "bf0d317c-474e-45e5-a988-afb6eb367bac"
      },
      "outputs": [
        {
          "ename": "",
          "evalue": "",
          "output_type": "error",
          "traceback": [
            "\u001b[1;31mFailed to start the Kernel. \n",
            "\u001b[1;31mTypeError: type 'List' is not subscriptable. \n",
            "\u001b[1;31mView Jupyter <a href='command:jupyter.viewOutput'>log</a> for further details."
          ]
        }
      ],
      "source": [
        "! pip install sweetviz\n"
      ]
    },
    {
      "cell_type": "code",
      "execution_count": null,
      "metadata": {
        "colab": {
          "base_uri": "https://localhost:8080/",
          "height": 803,
          "referenced_widgets": [
            "b5b373e0a4104f79b898e0e9443e06f6",
            "444bec38b90b415aaca64ea681f87234",
            "417c6dc6414242bfada7b9047cd4bd1a",
            "6f9fc30ca31547e7ba54c8f21830e80c",
            "84ae07a0b991442ea808f67de3e0c66b",
            "b60a6c2e0ebc4436aee8c7ed7ec57002",
            "31f6775e23544043b20e15ee2c7fd503",
            "48af003a1f9a43ca89fd72955a2309d5",
            "a7aea9ed2daf4ec39bbefddde4bfa699",
            "a9b9932242b94512b812f0608a4e913f",
            "7cc0104e1d8742ae8dce4bfc34164c94"
          ]
        },
        "id": "uNvdI_Oew2_u",
        "outputId": "e394c413-2d64-4215-f788-304c759b40af"
      },
      "outputs": [
        {
          "ename": "",
          "evalue": "",
          "output_type": "error",
          "traceback": [
            "\u001b[1;31mFailed to start the Kernel. \n",
            "\u001b[1;31mTypeError: type 'List' is not subscriptable. \n",
            "\u001b[1;31mView Jupyter <a href='command:jupyter.viewOutput'>log</a> for further details."
          ]
        }
      ],
      "source": [
        "import sweetviz as sv\n",
        "report = sv.analyze(df)\n",
        "report.show_notebook()"
      ]
    },
    {
      "cell_type": "markdown",
      "metadata": {
        "id": "lsQjkSdKCbs7"
      },
      "source": [
        "# Ananlysis Numerical columns"
      ]
    },
    {
      "cell_type": "code",
      "execution_count": null,
      "metadata": {},
      "outputs": [
        {
          "ename": "",
          "evalue": "",
          "output_type": "error",
          "traceback": [
            "\u001b[1;31mFailed to start the Kernel. \n",
            "\u001b[1;31mTypeError: type 'List' is not subscriptable. \n",
            "\u001b[1;31mView Jupyter <a href='command:jupyter.viewOutput'>log</a> for further details."
          ]
        }
      ],
      "source": [
        "#correlation\n",
        "df1=df.copy()\n",
        "# Convert 'loan_status' to numerical values\n",
        "df1['loan_status'] = df1['loan_status'].apply(lambda x: 1 if x == 'Paid' else 0)\n",
        "\n",
        "# Calculate the correlation matrix for numerical columns\n",
        "numerical_columns = df1.select_dtypes(include=['float64', 'int64']).columns\n",
        "correlations = df1[numerical_columns].corr()\n",
        "\n",
        "# Plot the correlation matrix\n",
        "plt.figure(figsize=(15, 10))\n",
        "sns.heatmap(correlations, annot=True, cmap='coolwarm')\n",
        "plt.title('Correlation Matrix')\n",
        "plt.show()\n"
      ]
    },
    {
      "cell_type": "markdown",
      "metadata": {},
      "source": [
        "### Analysing the data by the help of **pviot table** so we creat a function table which is help to build the tabble to find the some relationship "
      ]
    },
    {
      "cell_type": "code",
      "execution_count": null,
      "metadata": {},
      "outputs": [
        {
          "ename": "",
          "evalue": "",
          "output_type": "error",
          "traceback": [
            "\u001b[1;31mFailed to start the Kernel. \n",
            "\u001b[1;31mTypeError: type 'List' is not subscriptable. \n",
            "\u001b[1;31mView Jupyter <a href='command:jupyter.viewOutput'>log</a> for further details."
          ]
        }
      ],
      "source": [
        "  # Creating the pivot table with count by the help of the function\n",
        "def table(column):\n",
        "    # Creating the pivot table with count\n",
        "    pivot_table = pd.pivot_table(df, index=column, columns='loan_status', aggfunc='size', fill_value=0)\n",
        "    pivot_table['Total'] = pivot_table['Defaulted'] + pivot_table['Paid']\n",
        "    pivot_table['Default Percentage'] = round((pivot_table['Defaulted'] / pivot_table['Total']) * 100,2)\n",
        "    # Sorting the pivot table by the default percentage\n",
        "    pivot_table = pivot_table.sort_values('Default Percentage', ascending=False)\n",
        "\n",
        "    return pivot_table"
      ]
    },
    {
      "cell_type": "markdown",
      "metadata": {},
      "source": [
        "## Define a function for creating the **box** plot\n"
      ]
    },
    {
      "cell_type": "code",
      "execution_count": null,
      "metadata": {},
      "outputs": [
        {
          "ename": "",
          "evalue": "",
          "output_type": "error",
          "traceback": [
            "\u001b[1;31mFailed to start the Kernel. \n",
            "\u001b[1;31mTypeError: type 'List' is not subscriptable. \n",
            "\u001b[1;31mView Jupyter <a href='command:jupyter.viewOutput'>log</a> for further details."
          ]
        }
      ],
      "source": [
        "# creating a function for creating the box plot\n",
        "def plot_boxplot(column):\n",
        "    plt.figure(figsize=(10, 6))\n",
        "    sns.boxplot(data=df, x=column)\n",
        "    plt.title(f'Boxplot of {column} by loan_status')"
      ]
    },
    {
      "cell_type": "markdown",
      "metadata": {},
      "source": [
        "## Befine a function here for ploting the **histogram**"
      ]
    },
    {
      "cell_type": "code",
      "execution_count": null,
      "metadata": {},
      "outputs": [
        {
          "ename": "",
          "evalue": "",
          "output_type": "error",
          "traceback": [
            "\u001b[1;31mFailed to start the Kernel. \n",
            "\u001b[1;31mTypeError: type 'List' is not subscriptable. \n",
            "\u001b[1;31mView Jupyter <a href='command:jupyter.viewOutput'>log</a> for further details."
          ]
        }
      ],
      "source": [
        "def plot_histogram(column):\n",
        "    plt.figure(figsize=(10, 6))\n",
        "    sns.histplot(data=df, x=column, hue='loan_status')\n",
        "    plt.title(f'Histogram of {column} by loan_status')"
      ]
    },
    {
      "cell_type": "markdown",
      "metadata": {},
      "source": [
        "## Define the function  for **Count plot** for creating the plot"
      ]
    },
    {
      "cell_type": "code",
      "execution_count": null,
      "metadata": {},
      "outputs": [
        {
          "ename": "",
          "evalue": "",
          "output_type": "error",
          "traceback": [
            "\u001b[1;31mFailed to start the Kernel. \n",
            "\u001b[1;31mTypeError: type 'List' is not subscriptable. \n",
            "\u001b[1;31mView Jupyter <a href='command:jupyter.viewOutput'>log</a> for further details."
          ]
        }
      ],
      "source": [
        "def plot_countplot(column):\n",
        "    plt.figure(figsize=(10, 6))\n",
        "    sns.countplot(data=df, x=column, hue='loan_status')\n",
        "    plt.title(f'Countplot of {column} by loan_status')"
      ]
    },
    {
      "cell_type": "markdown",
      "metadata": {
        "id": "eFUdN1IoCmZU"
      },
      "source": [
        "## Creating the hist plot"
      ]
    },
    {
      "cell_type": "code",
      "execution_count": null,
      "metadata": {
        "colab": {
          "base_uri": "https://localhost:8080/",
          "height": 1000
        },
        "id": "v8lG_S_hCk45",
        "outputId": "2d0ceff7-717c-46f1-9304-dbe4fdf18a61"
      },
      "outputs": [
        {
          "ename": "",
          "evalue": "",
          "output_type": "error",
          "traceback": [
            "\u001b[1;31mFailed to start the Kernel. \n",
            "\u001b[1;31mTypeError: type 'List' is not subscriptable. \n",
            "\u001b[1;31mView Jupyter <a href='command:jupyter.viewOutput'>log</a> for further details."
          ]
        }
      ],
      "source": [
        "# Plot histograms for each numerical column with hue='loan_status'\n",
        "for column in numerical_columns:\n",
        "    plot_histogram(column)"
      ]
    },
    {
      "cell_type": "code",
      "execution_count": null,
      "metadata": {},
      "outputs": [
        {
          "ename": "",
          "evalue": "",
          "output_type": "error",
          "traceback": [
            "\u001b[1;31mFailed to start the Kernel. \n",
            "\u001b[1;31mTypeError: type 'List' is not subscriptable. \n",
            "\u001b[1;31mView Jupyter <a href='command:jupyter.viewOutput'>log</a> for further details."
          ]
        }
      ],
      "source": [
        "plot_histogram('annual_inc')"
      ]
    },
    {
      "cell_type": "code",
      "execution_count": null,
      "metadata": {},
      "outputs": [
        {
          "ename": "",
          "evalue": "",
          "output_type": "error",
          "traceback": [
            "\u001b[1;31mFailed to start the Kernel. \n",
            "\u001b[1;31mTypeError: type 'List' is not subscriptable. \n",
            "\u001b[1;31mView Jupyter <a href='command:jupyter.viewOutput'>log</a> for further details."
          ]
        }
      ],
      "source": [
        "plot_histogram('fico_range_high')"
      ]
    },
    {
      "cell_type": "code",
      "execution_count": null,
      "metadata": {},
      "outputs": [
        {
          "ename": "",
          "evalue": "",
          "output_type": "error",
          "traceback": [
            "\u001b[1;31mFailed to start the Kernel. \n",
            "\u001b[1;31mTypeError: type 'List' is not subscriptable. \n",
            "\u001b[1;31mView Jupyter <a href='command:jupyter.viewOutput'>log</a> for further details."
          ]
        }
      ],
      "source": [
        "plot_histogram('fico_range_low')"
      ]
    },
    {
      "cell_type": "code",
      "execution_count": null,
      "metadata": {},
      "outputs": [
        {
          "ename": "",
          "evalue": "",
          "output_type": "error",
          "traceback": [
            "\u001b[1;31mFailed to start the Kernel. \n",
            "\u001b[1;31mTypeError: type 'List' is not subscriptable. \n",
            "\u001b[1;31mView Jupyter <a href='command:jupyter.viewOutput'>log</a> for further details."
          ]
        }
      ],
      "source": [
        "plot_histogram('loan_amnt')"
      ]
    },
    {
      "cell_type": "code",
      "execution_count": null,
      "metadata": {},
      "outputs": [
        {
          "ename": "",
          "evalue": "",
          "output_type": "error",
          "traceback": [
            "\u001b[1;31mFailed to start the Kernel. \n",
            "\u001b[1;31mTypeError: type 'List' is not subscriptable. \n",
            "\u001b[1;31mView Jupyter <a href='command:jupyter.viewOutput'>log</a> for further details."
          ]
        }
      ],
      "source": [
        "plot_histogram('open_acc')"
      ]
    },
    {
      "cell_type": "code",
      "execution_count": null,
      "metadata": {},
      "outputs": [
        {
          "ename": "",
          "evalue": "",
          "output_type": "error",
          "traceback": [
            "\u001b[1;31mFailed to start the Kernel. \n",
            "\u001b[1;31mTypeError: type 'List' is not subscriptable. \n",
            "\u001b[1;31mView Jupyter <a href='command:jupyter.viewOutput'>log</a> for further details."
          ]
        }
      ],
      "source": [
        "plot_histogram('pub_rec')"
      ]
    },
    {
      "cell_type": "code",
      "execution_count": null,
      "metadata": {},
      "outputs": [
        {
          "ename": "",
          "evalue": "",
          "output_type": "error",
          "traceback": [
            "\u001b[1;31mFailed to start the Kernel. \n",
            "\u001b[1;31mTypeError: type 'List' is not subscriptable. \n",
            "\u001b[1;31mView Jupyter <a href='command:jupyter.viewOutput'>log</a> for further details."
          ]
        }
      ],
      "source": [
        "plot_histogram('pub_rec_bankruptcies')"
      ]
    },
    {
      "cell_type": "code",
      "execution_count": null,
      "metadata": {},
      "outputs": [
        {
          "ename": "",
          "evalue": "",
          "output_type": "error",
          "traceback": [
            "\u001b[1;31mFailed to start the Kernel. \n",
            "\u001b[1;31mTypeError: type 'List' is not subscriptable. \n",
            "\u001b[1;31mView Jupyter <a href='command:jupyter.viewOutput'>log</a> for further details."
          ]
        }
      ],
      "source": [
        "\n",
        "plot_histogram('revol_bal')"
      ]
    },
    {
      "cell_type": "code",
      "execution_count": null,
      "metadata": {},
      "outputs": [
        {
          "ename": "",
          "evalue": "",
          "output_type": "error",
          "traceback": [
            "\u001b[1;31mFailed to start the Kernel. \n",
            "\u001b[1;31mTypeError: type 'List' is not subscriptable. \n",
            "\u001b[1;31mView Jupyter <a href='command:jupyter.viewOutput'>log</a> for further details."
          ]
        }
      ],
      "source": [
        "plot_histogram('total_acc')"
      ]
    },
    {
      "cell_type": "code",
      "execution_count": null,
      "metadata": {},
      "outputs": [
        {
          "ename": "",
          "evalue": "",
          "output_type": "error",
          "traceback": [
            "\u001b[1;31mFailed to start the Kernel. \n",
            "\u001b[1;31mTypeError: type 'List' is not subscriptable. \n",
            "\u001b[1;31mView Jupyter <a href='command:jupyter.viewOutput'>log</a> for further details."
          ]
        }
      ],
      "source": [
        "plot_histogram('mort_acc')"
      ]
    },
    {
      "cell_type": "code",
      "execution_count": null,
      "metadata": {},
      "outputs": [
        {
          "ename": "",
          "evalue": "",
          "output_type": "error",
          "traceback": [
            "\u001b[1;31mFailed to start the Kernel. \n",
            "\u001b[1;31mTypeError: type 'List' is not subscriptable. \n",
            "\u001b[1;31mView Jupyter <a href='command:jupyter.viewOutput'>log</a> for further details."
          ]
        }
      ],
      "source": [
        "plot_histogram('revol_util')"
      ]
    },
    {
      "cell_type": "code",
      "execution_count": null,
      "metadata": {},
      "outputs": [
        {
          "ename": "",
          "evalue": "",
          "output_type": "error",
          "traceback": [
            "\u001b[1;31mFailed to start the Kernel. \n",
            "\u001b[1;31mTypeError: type 'List' is not subscriptable. \n",
            "\u001b[1;31mView Jupyter <a href='command:jupyter.viewOutput'>log</a> for further details."
          ]
        }
      ],
      "source": []
    },
    {
      "cell_type": "code",
      "execution_count": null,
      "metadata": {},
      "outputs": [
        {
          "ename": "",
          "evalue": "",
          "output_type": "error",
          "traceback": [
            "\u001b[1;31mFailed to start the Kernel. \n",
            "\u001b[1;31mTypeError: type 'List' is not subscriptable. \n",
            "\u001b[1;31mView Jupyter <a href='command:jupyter.viewOutput'>log</a> for further details."
          ]
        }
      ],
      "source": []
    },
    {
      "cell_type": "code",
      "execution_count": null,
      "metadata": {
        "colab": {
          "base_uri": "https://localhost:8080/"
        },
        "id": "GYthfb2rCUEE",
        "outputId": "d4252293-2c2f-43c5-e1e0-928d575ffb56"
      },
      "outputs": [
        {
          "ename": "",
          "evalue": "",
          "output_type": "error",
          "traceback": [
            "\u001b[1;31mFailed to start the Kernel. \n",
            "\u001b[1;31mTypeError: type 'List' is not subscriptable. \n",
            "\u001b[1;31mView Jupyter <a href='command:jupyter.viewOutput'>log</a> for further details."
          ]
        }
      ],
      "source": [
        "numerical_columns"
      ]
    },
    {
      "cell_type": "code",
      "execution_count": null,
      "metadata": {
        "colab": {
          "base_uri": "https://localhost:8080/",
          "height": 945
        },
        "id": "yV_mLGagok5A",
        "outputId": "ecbef28b-b597-4bcb-c9b3-1997eccb0853"
      },
      "outputs": [
        {
          "ename": "",
          "evalue": "",
          "output_type": "error",
          "traceback": [
            "\u001b[1;31mFailed to start the Kernel. \n",
            "\u001b[1;31mTypeError: type 'List' is not subscriptable. \n",
            "\u001b[1;31mView Jupyter <a href='command:jupyter.viewOutput'>log</a> for further details."
          ]
        }
      ],
      "source": [
        "#correlation\n",
        "df1=df.copy()\n",
        "# Convert 'loan_status' to numerical values\n",
        "df1['loan_status'] = df1['loan_status'].apply(lambda x: 1 if x == 'Paid' else 0)\n",
        "\n",
        "# Calculate the correlation matrix for numerical columns\n",
        "numerical_columns = df1.select_dtypes(include=['float64', 'int64']).columns\n",
        "correlations = df1[numerical_columns].corr()\n",
        "\n",
        "# Plot the correlation matrix\n",
        "plt.figure(figsize=(15, 10))\n",
        "sns.heatmap(correlations, annot=True, cmap='coolwarm')\n",
        "plt.title('Correlation Matrix')\n",
        "plt.show()\n"
      ]
    },
    {
      "cell_type": "markdown",
      "metadata": {
        "id": "xyfe7blWoWcX"
      },
      "source": [
        "import the some sklearn function to do some opretion"
      ]
    },
    {
      "cell_type": "code",
      "execution_count": null,
      "metadata": {
        "colab": {
          "base_uri": "https://localhost:8080/",
          "height": 481
        },
        "id": "aFMMx1V7oU85",
        "outputId": "a4ee336f-b5b5-4633-a647-ad69b7179ed7"
      },
      "outputs": [
        {
          "ename": "",
          "evalue": "",
          "output_type": "error",
          "traceback": [
            "\u001b[1;31mFailed to start the Kernel. \n",
            "\u001b[1;31mTypeError: type 'List' is not subscriptable. \n",
            "\u001b[1;31mView Jupyter <a href='command:jupyter.viewOutput'>log</a> for further details."
          ]
        }
      ],
      "source": [
        "plt.figure(figsize=(10, 5))\n",
        "sns.countplot(x='',hue='loan_status', data=df)\n",
        "plt.title('Interest Rate vs. Loan Status')\n",
        "plt.show()\n"
      ]
    },
    {
      "cell_type": "markdown",
      "metadata": {
        "id": "Im8YXjA3n77O"
      },
      "source": [
        "In this plot we can easily see that if the interest rate of loan is so high that the loan default increases"
      ]
    },
    {
      "cell_type": "code",
      "execution_count": null,
      "metadata": {
        "colab": {
          "base_uri": "https://localhost:8080/",
          "height": 466
        },
        "id": "romJ0jLkmtme",
        "outputId": "70d4d8dc-a8ee-4bbe-b996-568c5790182e"
      },
      "outputs": [
        {
          "ename": "",
          "evalue": "",
          "output_type": "error",
          "traceback": [
            "\u001b[1;31mFailed to start the Kernel. \n",
            "\u001b[1;31mTypeError: type 'List' is not subscriptable. \n",
            "\u001b[1;31mView Jupyter <a href='command:jupyter.viewOutput'>log</a> for further details."
          ]
        }
      ],
      "source": [
        "sns.countplot(x='term', hue='loan_status', data=df)\n",
        "plt.title('Term vs. Loan Status')\n",
        "plt.show()"
      ]
    },
    {
      "cell_type": "markdown",
      "metadata": {
        "id": "lPDpdgy1ojaT"
      },
      "source": [
        "In this plot the loan tenure is increased, loan defaults will increase"
      ]
    },
    {
      "cell_type": "code",
      "execution_count": null,
      "metadata": {
        "colab": {
          "base_uri": "https://localhost:8080/",
          "height": 481
        },
        "id": "GK3oUeAZlzZP",
        "outputId": "b6215e2e-c5b2-4597-8f7b-89e6f9a749b5"
      },
      "outputs": [
        {
          "ename": "",
          "evalue": "",
          "output_type": "error",
          "traceback": [
            "\u001b[1;31mFailed to start the Kernel. \n",
            "\u001b[1;31mTypeError: type 'List' is not subscriptable. \n",
            "\u001b[1;31mView Jupyter <a href='command:jupyter.viewOutput'>log</a> for further details."
          ]
        }
      ],
      "source": [
        "plt.figure(figsize=(10, 5))\n",
        "sns.countplot(x='emp_length', hue='loan_status', data=df)\n",
        "plt.title('Employment Length vs. Loan Status')\n",
        "plt.show()\n"
      ]
    },
    {
      "cell_type": "markdown",
      "metadata": {
        "id": "7ivuqWrQptuG"
      },
      "source": [
        "In this graph we can see if you have long working experience then you should take loan than other which increases the number of defaulter but it does not provide good information about defaulter and paid customer."
      ]
    },
    {
      "cell_type": "code",
      "execution_count": null,
      "metadata": {
        "colab": {
          "base_uri": "https://localhost:8080/",
          "height": 269
        },
        "id": "8g_f_oq25U0j",
        "outputId": "8b9dab41-8c0f-40f7-a2c8-3d1c5bc59ee3"
      },
      "outputs": [
        {
          "ename": "",
          "evalue": "",
          "output_type": "error",
          "traceback": [
            "\u001b[1;31mFailed to start the Kernel. \n",
            "\u001b[1;31mTypeError: type 'List' is not subscriptable. \n",
            "\u001b[1;31mView Jupyter <a href='command:jupyter.viewOutput'>log</a> for further details."
          ]
        }
      ],
      "source": [
        "# Creating the pivot table with count\n",
        "pivot_table = pd.pivot_table(df, index='home_ownership', columns='loan_status', aggfunc='size', fill_value=0)\n",
        "\n",
        "pivot_table['Total'] = pivot_table['Defaulted'] + pivot_table['Paid']\n",
        "pivot_table['Default Percentage'] = round((pivot_table['Defaulted'] / pivot_table['Total']) * 100,2)\n",
        "\n",
        "# Sorting the pivot table by the default percentage\n",
        "pivot_table = pivot_table.sort_values('Default Percentage', ascending=False)\n",
        "\n",
        "# Display the pivot table\n",
        "pivot_table\n"
      ]
    },
    {
      "cell_type": "code",
      "execution_count": null,
      "metadata": {
        "colab": {
          "base_uri": "https://localhost:8080/",
          "height": 481
        },
        "id": "dclng5PEmISG",
        "outputId": "733d7847-ad39-4c15-8876-64a6918bbe49"
      },
      "outputs": [
        {
          "ename": "",
          "evalue": "",
          "output_type": "error",
          "traceback": [
            "\u001b[1;31mFailed to start the Kernel. \n",
            "\u001b[1;31mTypeError: type 'List' is not subscriptable. \n",
            "\u001b[1;31mView Jupyter <a href='command:jupyter.viewOutput'>log</a> for further details."
          ]
        }
      ],
      "source": [
        "plt.figure(figsize=(10, 5))\n",
        "sns.countplot(x='home_ownership', hue='loan_status', data=df)\n",
        "plt.title('Home Ownership vs. Loan Status')\n",
        "plt.show()\n"
      ]
    },
    {
      "cell_type": "markdown",
      "metadata": {
        "id": "v2st3mQYqrTG"
      },
      "source": [
        "In this graph, we can see the increase in number of persons having mortgage, rent and own house but the number of defaulters among rented persons is more than others."
      ]
    },
    {
      "cell_type": "code",
      "execution_count": null,
      "metadata": {
        "colab": {
          "base_uri": "https://localhost:8080/",
          "height": 519
        },
        "id": "VsgdVWQX-eWW",
        "outputId": "7a645815-f635-46d5-8818-a3b81c40c089"
      },
      "outputs": [
        {
          "ename": "",
          "evalue": "",
          "output_type": "error",
          "traceback": [
            "\u001b[1;31mFailed to start the Kernel. \n",
            "\u001b[1;31mTypeError: type 'List' is not subscriptable. \n",
            "\u001b[1;31mView Jupyter <a href='command:jupyter.viewOutput'>log</a> for further details."
          ]
        }
      ],
      "source": [
        "# Creating the pivot table with count\n",
        "pivot_table = pd.pivot_table(df, index='purpose', columns='loan_status', aggfunc='size', fill_value=0)\n",
        "\n",
        "pivot_table['Total'] = pivot_table['Defaulted'] + pivot_table['Paid']\n",
        "pivot_table['Default Percentage'] = round((pivot_table['Defaulted'] / pivot_table['Total']) * 100,2)\n",
        "\n",
        "# Sorting the pivot table by the default percentage\n",
        "pivot_table = pivot_table.sort_values('Default Percentage', ascending=False)\n",
        "\n",
        "# Display the pivot table\n",
        "pivot_table\n"
      ]
    },
    {
      "cell_type": "code",
      "execution_count": null,
      "metadata": {
        "colab": {
          "base_uri": "https://localhost:8080/",
          "height": 481
        },
        "id": "w3AcO6-6mhN_",
        "outputId": "12a65469-a44d-4587-c3c0-cb1dff1e7f92"
      },
      "outputs": [
        {
          "ename": "",
          "evalue": "",
          "output_type": "error",
          "traceback": [
            "\u001b[1;31mFailed to start the Kernel. \n",
            "\u001b[1;31mTypeError: type 'List' is not subscriptable. \n",
            "\u001b[1;31mView Jupyter <a href='command:jupyter.viewOutput'>log</a> for further details."
          ]
        }
      ],
      "source": [
        "plt.figure(figsize=(10, 5))\n",
        "sns.countplot(y='purpose', hue='loan_status', data=df)\n",
        "plt.title('Loan Purpose vs. Loan Status')\n",
        "plt.show()\n"
      ]
    },
    {
      "cell_type": "code",
      "execution_count": null,
      "metadata": {
        "colab": {
          "base_uri": "https://localhost:8080/",
          "height": 1000
        },
        "id": "3Q6Krp4I-x82",
        "outputId": "20def6d1-2d8d-4413-ee08-4b9591852a97"
      },
      "outputs": [
        {
          "ename": "",
          "evalue": "",
          "output_type": "error",
          "traceback": [
            "\u001b[1;31mFailed to start the Kernel. \n",
            "\u001b[1;31mTypeError: type 'List' is not subscriptable. \n",
            "\u001b[1;31mView Jupyter <a href='command:jupyter.viewOutput'>log</a> for further details."
          ]
        }
      ],
      "source": [
        "# Creating the pivot table with count\n",
        "pivot_table = pd.pivot_table(df, index='addr_state', columns='loan_status', aggfunc='size', fill_value=0)\n",
        "\n",
        "pivot_table['Total'] = pivot_table['Defaulted'] + pivot_table['Paid']\n",
        "pivot_table['Default Percentage'] = round((pivot_table['Defaulted'] / pivot_table['Total']) * 100,2)\n",
        "\n",
        "# Sorting the pivot table by the default percentage\n",
        "pivot_table = pivot_table.sort_values('Default Percentage', ascending=False)\n",
        "\n",
        "# Display the pivot table\n",
        "pivot_table\n"
      ]
    },
    {
      "cell_type": "code",
      "execution_count": null,
      "metadata": {
        "colab": {
          "base_uri": "https://localhost:8080/",
          "height": 300
        },
        "id": "8L4MitRKAV5G",
        "outputId": "7df27436-f1d4-4283-cd66-154e20d627d6"
      },
      "outputs": [
        {
          "ename": "",
          "evalue": "",
          "output_type": "error",
          "traceback": [
            "\u001b[1;31mFailed to start the Kernel. \n",
            "\u001b[1;31mTypeError: type 'List' is not subscriptable. \n",
            "\u001b[1;31mView Jupyter <a href='command:jupyter.viewOutput'>log</a> for further details."
          ]
        }
      ],
      "source": [
        "# Creating the pivot table with count\n",
        "pivot_table = pd.pivot_table(df, index='grade', columns='loan_status', aggfunc='size', fill_value=0)\n",
        "\n",
        "pivot_table['Total'] = pivot_table['Defaulted'] + pivot_table['Paid']\n",
        "pivot_table['Default Percentage'] = round((pivot_table['Defaulted'] / pivot_table['Total']) * 100,2)\n",
        "\n",
        "# Sorting the pivot table by the default percentage\n",
        "pivot_table = pivot_table.sort_values('Default Percentage', ascending=False)\n",
        "\n",
        "# Display the pivot table\n",
        "pivot_table\n"
      ]
    },
    {
      "cell_type": "code",
      "execution_count": null,
      "metadata": {
        "colab": {
          "base_uri": "https://localhost:8080/",
          "height": 143
        },
        "id": "RHUTXTcOAvUU",
        "outputId": "947004d1-c143-4ea8-a726-03e1364b6588"
      },
      "outputs": [
        {
          "ename": "",
          "evalue": "",
          "output_type": "error",
          "traceback": [
            "\u001b[1;31mFailed to start the Kernel. \n",
            "\u001b[1;31mTypeError: type 'List' is not subscriptable. \n",
            "\u001b[1;31mView Jupyter <a href='command:jupyter.viewOutput'>log</a> for further details."
          ]
        }
      ],
      "source": [
        "# Creating the pivot table with count\n",
        "pivot_table = pd.pivot_table(df, index='application_type', columns='loan_status', aggfunc='size', fill_value=0)\n",
        "\n",
        "pivot_table['Total'] = pivot_table['Defaulted'] + pivot_table['Paid']\n",
        "pivot_table['Default Percentage'] = round((pivot_table['Defaulted'] / pivot_table['Total']) * 100,2)\n",
        "\n",
        "# Sorting the pivot table by the default percentage\n",
        "pivot_table = pivot_table.sort_values('Default Percentage', ascending=False)\n",
        "\n",
        "# Display the pivot table\n",
        "pivot_table\n"
      ]
    },
    {
      "cell_type": "code",
      "execution_count": null,
      "metadata": {
        "colab": {
          "base_uri": "https://localhost:8080/",
          "height": 143
        },
        "id": "JL9SDG1XA2ue",
        "outputId": "730be918-f9ae-4d3c-a6ca-3e4c78e83e4a"
      },
      "outputs": [
        {
          "ename": "",
          "evalue": "",
          "output_type": "error",
          "traceback": [
            "\u001b[1;31mFailed to start the Kernel. \n",
            "\u001b[1;31mTypeError: type 'List' is not subscriptable. \n",
            "\u001b[1;31mView Jupyter <a href='command:jupyter.viewOutput'>log</a> for further details."
          ]
        }
      ],
      "source": [
        "# Creating the pivot table with count\n",
        "pivot_table = pd.pivot_table(df, index='initial_list_status', columns='loan_status', aggfunc='size', fill_value=0)\n",
        "\n",
        "pivot_table['Total'] = pivot_table['Defaulted'] + pivot_table['Paid']\n",
        "pivot_table['Default Percentage'] = round((pivot_table['Defaulted'] / pivot_table['Total']) * 100,2)\n",
        "\n",
        "# Sorting the pivot table by the default percentage\n",
        "pivot_table = pivot_table.sort_values('Default Percentage', ascending=False)\n",
        "\n",
        "# Display the pivot table\n",
        "pivot_table\n"
      ]
    },
    {
      "cell_type": "code",
      "execution_count": null,
      "metadata": {
        "colab": {
          "base_uri": "https://localhost:8080/",
          "height": 1000
        },
        "id": "iGhrqXDAA7rY",
        "outputId": "159690e5-508c-44d3-be8f-8853ce5e3cbf"
      },
      "outputs": [
        {
          "ename": "",
          "evalue": "",
          "output_type": "error",
          "traceback": [
            "\u001b[1;31mFailed to start the Kernel. \n",
            "\u001b[1;31mTypeError: type 'List' is not subscriptable. \n",
            "\u001b[1;31mView Jupyter <a href='command:jupyter.viewOutput'>log</a> for further details."
          ]
        }
      ],
      "source": [
        "# Creating the pivot table with count\n",
        "pivot_table = pd.pivot_table(df, index='sub_grade', columns='loan_status', aggfunc='size', fill_value=0)\n",
        "\n",
        "pivot_table['Total'] = pivot_table['Defaulted'] + pivot_table['Paid']\n",
        "pivot_table['Default Percentage'] = round((pivot_table['Defaulted'] / pivot_table['Total']) * 100,2)\n",
        "\n",
        "# Sorting the pivot table by the default percentage\n",
        "pivot_table = pivot_table.sort_values('Default Percentage', ascending=False)\n",
        "\n",
        "# Display the pivot table\n",
        "pivot_table\n"
      ]
    },
    {
      "cell_type": "code",
      "execution_count": null,
      "metadata": {
        "colab": {
          "base_uri": "https://localhost:8080/",
          "height": 143
        },
        "id": "hgJmnU2DBPK9",
        "outputId": "1cf02613-7ad0-4983-f907-b233eb0da3f6"
      },
      "outputs": [
        {
          "ename": "",
          "evalue": "",
          "output_type": "error",
          "traceback": [
            "\u001b[1;31mFailed to start the Kernel. \n",
            "\u001b[1;31mTypeError: type 'List' is not subscriptable. \n",
            "\u001b[1;31mView Jupyter <a href='command:jupyter.viewOutput'>log</a> for further details."
          ]
        }
      ],
      "source": [
        "# Creating the pivot table with count\n",
        "pivot_table = pd.pivot_table(df, index='term', columns='loan_status', aggfunc='size', fill_value=0)\n",
        "\n",
        "pivot_table['Total'] = pivot_table['Defaulted'] + pivot_table['Paid']\n",
        "pivot_table['Default Percentage'] = round((pivot_table['Defaulted'] / pivot_table['Total']) * 100,2)\n",
        "\n",
        "# Sorting the pivot table by the default percentage\n",
        "pivot_table = pivot_table.sort_values('Default Percentage', ascending=False)\n",
        "\n",
        "# Display the pivot table\n",
        "pivot_table\n"
      ]
    },
    {
      "cell_type": "code",
      "execution_count": null,
      "metadata": {
        "colab": {
          "base_uri": "https://localhost:8080/",
          "height": 455
        },
        "id": "cHk8d9elBTvd",
        "outputId": "fc778ab8-94c2-4daf-e4de-a755cc526d4f"
      },
      "outputs": [
        {
          "ename": "",
          "evalue": "",
          "output_type": "error",
          "traceback": [
            "\u001b[1;31mFailed to start the Kernel. \n",
            "\u001b[1;31mTypeError: type 'List' is not subscriptable. \n",
            "\u001b[1;31mView Jupyter <a href='command:jupyter.viewOutput'>log</a> for further details."
          ]
        }
      ],
      "source": [
        "# Creating the pivot table with count\n",
        "pivot_table = pd.pivot_table(df, index='title', columns='loan_status', aggfunc='size', fill_value=0)\n",
        "\n",
        "pivot_table['Total'] = pivot_table['Defaulted'] + pivot_table['Paid']\n",
        "pivot_table['Default Percentage'] = round((pivot_table['Defaulted'] / pivot_table['Total']) * 100,2)\n",
        "\n",
        "# Sorting the pivot table by the default percentage\n",
        "pivot_table = pivot_table.sort_values('Default Percentage', ascending=False)\n",
        "\n",
        "# Display the pivot table\n",
        "pivot_table\n"
      ]
    },
    {
      "cell_type": "code",
      "execution_count": null,
      "metadata": {
        "colab": {
          "base_uri": "https://localhost:8080/",
          "height": 175
        },
        "id": "QcI0XRo7BXJG",
        "outputId": "ec57924c-378c-4508-87ba-d78485eb3c02"
      },
      "outputs": [
        {
          "ename": "",
          "evalue": "",
          "output_type": "error",
          "traceback": [
            "\u001b[1;31mFailed to start the Kernel. \n",
            "\u001b[1;31mTypeError: type 'List' is not subscriptable. \n",
            "\u001b[1;31mView Jupyter <a href='command:jupyter.viewOutput'>log</a> for further details."
          ]
        }
      ],
      "source": [
        "# Creating the pivot table with count\n",
        "pivot_table = pd.pivot_table(df, index='verification_status', columns='loan_status', aggfunc='size', fill_value=0)\n",
        "\n",
        "pivot_table['Total'] = pivot_table['Defaulted'] + pivot_table['Paid']\n",
        "pivot_table['Default Percentage'] = round((pivot_table['Defaulted'] / pivot_table['Total']) * 100,2)\n",
        "\n",
        "# Sorting the pivot table by the default percentage\n",
        "pivot_table = pivot_table.sort_values('Default Percentage', ascending=False)\n",
        "\n",
        "# Display the pivot table\n",
        "pivot_table\n"
      ]
    },
    {
      "cell_type": "code",
      "execution_count": null,
      "metadata": {
        "colab": {
          "base_uri": "https://localhost:8080/"
        },
        "id": "v7y6gOrFANoB",
        "outputId": "bcea82de-fb5c-4ae5-c828-3356848b6b1e"
      },
      "outputs": [
        {
          "ename": "",
          "evalue": "",
          "output_type": "error",
          "traceback": [
            "\u001b[1;31mFailed to start the Kernel. \n",
            "\u001b[1;31mTypeError: type 'List' is not subscriptable. \n",
            "\u001b[1;31mView Jupyter <a href='command:jupyter.viewOutput'>log</a> for further details."
          ]
        }
      ],
      "source": [
        "categorical_columns"
      ]
    },
    {
      "cell_type": "code",
      "execution_count": null,
      "metadata": {
        "id": "DFiJK9YsASqV"
      },
      "outputs": [
        {
          "ename": "",
          "evalue": "",
          "output_type": "error",
          "traceback": [
            "\u001b[1;31mFailed to start the Kernel. \n",
            "\u001b[1;31mTypeError: type 'List' is not subscriptable. \n",
            "\u001b[1;31mView Jupyter <a href='command:jupyter.viewOutput'>log</a> for further details."
          ]
        }
      ],
      "source": []
    },
    {
      "cell_type": "code",
      "execution_count": null,
      "metadata": {
        "colab": {
          "base_uri": "https://localhost:8080/",
          "height": 866
        },
        "id": "lF0yTVHOmhJl",
        "outputId": "1d05309e-b701-4dc6-d1ca-7b5454612497"
      },
      "outputs": [
        {
          "ename": "",
          "evalue": "",
          "output_type": "error",
          "traceback": [
            "\u001b[1;31mFailed to start the Kernel. \n",
            "\u001b[1;31mTypeError: type 'List' is not subscriptable. \n",
            "\u001b[1;31mView Jupyter <a href='command:jupyter.viewOutput'>log</a> for further details."
          ]
        }
      ],
      "source": [
        "plt.figure(figsize=(15, 10))\n",
        "sns.countplot(y='addr_state', hue='loan_status', data=df)\n",
        "plt.title('Address State vs. Loan Status')\n",
        "plt.show()\n"
      ]
    },
    {
      "cell_type": "code",
      "execution_count": null,
      "metadata": {
        "id": "LUaE7OaJmhFw"
      },
      "outputs": [
        {
          "ename": "",
          "evalue": "",
          "output_type": "error",
          "traceback": [
            "\u001b[1;31mFailed to start the Kernel. \n",
            "\u001b[1;31mTypeError: type 'List' is not subscriptable. \n",
            "\u001b[1;31mView Jupyter <a href='command:jupyter.viewOutput'>log</a> for further details."
          ]
        }
      ],
      "source": []
    },
    {
      "cell_type": "code",
      "execution_count": null,
      "metadata": {
        "id": "aB1Lz8UZmhCi"
      },
      "outputs": [
        {
          "ename": "",
          "evalue": "",
          "output_type": "error",
          "traceback": [
            "\u001b[1;31mFailed to start the Kernel. \n",
            "\u001b[1;31mTypeError: type 'List' is not subscriptable. \n",
            "\u001b[1;31mView Jupyter <a href='command:jupyter.viewOutput'>log</a> for further details."
          ]
        }
      ],
      "source": []
    },
    {
      "cell_type": "code",
      "execution_count": null,
      "metadata": {
        "id": "5ane7spvmg_z"
      },
      "outputs": [
        {
          "ename": "",
          "evalue": "",
          "output_type": "error",
          "traceback": [
            "\u001b[1;31mFailed to start the Kernel. \n",
            "\u001b[1;31mTypeError: type 'List' is not subscriptable. \n",
            "\u001b[1;31mView Jupyter <a href='command:jupyter.viewOutput'>log</a> for further details."
          ]
        }
      ],
      "source": []
    },
    {
      "cell_type": "code",
      "execution_count": null,
      "metadata": {
        "id": "dY_oaF92mg9D"
      },
      "outputs": [
        {
          "ename": "",
          "evalue": "",
          "output_type": "error",
          "traceback": [
            "\u001b[1;31mFailed to start the Kernel. \n",
            "\u001b[1;31mTypeError: type 'List' is not subscriptable. \n",
            "\u001b[1;31mView Jupyter <a href='command:jupyter.viewOutput'>log</a> for further details."
          ]
        }
      ],
      "source": []
    },
    {
      "cell_type": "code",
      "execution_count": null,
      "metadata": {
        "id": "IPnVrLOOmg5l"
      },
      "outputs": [
        {
          "ename": "",
          "evalue": "",
          "output_type": "error",
          "traceback": [
            "\u001b[1;31mFailed to start the Kernel. \n",
            "\u001b[1;31mTypeError: type 'List' is not subscriptable. \n",
            "\u001b[1;31mView Jupyter <a href='command:jupyter.viewOutput'>log</a> for further details."
          ]
        }
      ],
      "source": []
    },
    {
      "cell_type": "code",
      "execution_count": null,
      "metadata": {
        "id": "FWNmGqW2mg1j"
      },
      "outputs": [
        {
          "ename": "",
          "evalue": "",
          "output_type": "error",
          "traceback": [
            "\u001b[1;31mFailed to start the Kernel. \n",
            "\u001b[1;31mTypeError: type 'List' is not subscriptable. \n",
            "\u001b[1;31mView Jupyter <a href='command:jupyter.viewOutput'>log</a> for further details."
          ]
        }
      ],
      "source": []
    },
    {
      "cell_type": "markdown",
      "metadata": {
        "id": "4nnSomnQhC1l"
      },
      "source": [
        "## finding the outlire with the help of box\\ plot"
      ]
    },
    {
      "cell_type": "code",
      "execution_count": null,
      "metadata": {
        "id": "R0e4SypxmfbX"
      },
      "outputs": [
        {
          "ename": "",
          "evalue": "",
          "output_type": "error",
          "traceback": [
            "\u001b[1;31mFailed to start the Kernel. \n",
            "\u001b[1;31mTypeError: type 'List' is not subscriptable. \n",
            "\u001b[1;31mView Jupyter <a href='command:jupyter.viewOutput'>log</a> for further details."
          ]
        }
      ],
      "source": [
        "# Befor filling the missing values into the data set we firstly check the outlire   Plot boxplots for numerical variables to find the outlire\n",
        "for column in numerical_columns:\n",
        "    plt.figure(figsize=(10, 5))\n",
        "    sns.boxplot(x=df[column])\n",
        "    plt.title(f'Boxplot of {column}')\n",
        "    plt.show()\n"
      ]
    },
    {
      "cell_type": "markdown",
      "metadata": {
        "id": "xAG8i0L7qMbV"
      },
      "source": [
        "## Preprocessing\n",
        "\n",
        "Preprocessing involves preparing the data for analysis or modeling. It includes:\n",
        "\n",
        "### Handling Missing Values\n",
        "- Filling, imputing, or dropping missing data points.\n",
        "\n",
        "### Encoding Categorical Variables\n",
        "- Converting categorical variables into numerical formats that machine learning models can understand.\n",
        "\n",
        "### Scaling and Normalization\n",
        "- Adjusting the scale of numerical features to ensure they are on a similar scale.\n",
        "\n",
        "### Feature Engineering\n",
        "- Creating new features from existing data to improve model performance.\n",
        "\n",
        "### Data Cleaning\n",
        "- Removing or correcting erroneous data points.\n"
      ]
    },
    {
      "cell_type": "code",
      "execution_count": null,
      "metadata": {
        "id": "4-iAUXpJmbZa"
      },
      "outputs": [
        {
          "ename": "",
          "evalue": "",
          "output_type": "error",
          "traceback": [
            "\u001b[1;31mFailed to start the Kernel. \n",
            "\u001b[1;31mTypeError: type 'List' is not subscriptable. \n",
            "\u001b[1;31mView Jupyter <a href='command:jupyter.viewOutput'>log</a> for further details."
          ]
        }
      ],
      "source": [
        "from sklearn.impute import SimpleImputer\n",
        "from sklearn.preprocessing import LabelEncoder,OneHotEncoder\n",
        "from sklearn.compose import ColumnTransformer\n",
        "from sklearn.pipeline import Pipeline\n",
        "from sklearn.model_selection import train_test_split\n",
        "from sklearn.metrics import accuracy_score, classification_report\n",
        "from sklearn.preprocessing import StandardScaler"
      ]
    },
    {
      "cell_type": "markdown",
      "metadata": {
        "id": "Q0isPyNWqb6U"
      },
      "source": [
        "#### converting the target variable into the some numerical values"
      ]
    },
    {
      "cell_type": "code",
      "execution_count": null,
      "metadata": {
        "id": "mNl0_Hclmf1A"
      },
      "outputs": [
        {
          "ename": "",
          "evalue": "",
          "output_type": "error",
          "traceback": [
            "\u001b[1;31mFailed to start the Kernel. \n",
            "\u001b[1;31mTypeError: type 'List' is not subscriptable. \n",
            "\u001b[1;31mView Jupyter <a href='command:jupyter.viewOutput'>log</a> for further details."
          ]
        }
      ],
      "source": [
        "for i in df['loan_status'].unique():\n",
        "  if i == 'Paid':\n",
        "    df['loan_status'] = df['loan_status'].replace(i,1)\n",
        "  else:\n",
        "    df['loan_status'] = df['loan_status'].replace(i,0)"
      ]
    },
    {
      "cell_type": "markdown",
      "metadata": {
        "id": "WYbECqroqxA9"
      },
      "source": [
        "### Treating the missing values by the help of the simple imputor and column transform"
      ]
    },
    {
      "cell_type": "code",
      "execution_count": null,
      "metadata": {
        "colab": {
          "base_uri": "https://localhost:8080/"
        },
        "id": "tkhWv1EBqQK-",
        "outputId": "c8bd5618-af15-4152-8eaf-c69be74e9f14"
      },
      "outputs": [
        {
          "ename": "",
          "evalue": "",
          "output_type": "error",
          "traceback": [
            "\u001b[1;31mFailed to start the Kernel. \n",
            "\u001b[1;31mTypeError: type 'List' is not subscriptable. \n",
            "\u001b[1;31mView Jupyter <a href='command:jupyter.viewOutput'>log</a> for further details."
          ]
        }
      ],
      "source": [
        "# List of numerical and categorical features to fill\n",
        "num_features = ['mort_acc', 'pub_rec_bankruptcies', 'revol_util', 'num_actv_bc_tl', 'tot_cur_bal']\n",
        "cat_features = ['emp_title', 'emp_length', 'title']\n",
        "\n",
        "# Define the ColumnTransformer\n",
        "preprocessor = ColumnTransformer(\n",
        "    transformers=[\n",
        "        ('num', SimpleImputer(strategy='median'), num_features),\n",
        "        ('cat', SimpleImputer(strategy='most_frequent'), cat_features)\n",
        "    ])\n",
        "\n",
        "# Apply the transformations\n",
        "df[num_features + cat_features] = preprocessor.fit_transform(df)\n",
        "\n",
        "# Check the result\n",
        "print(df.isnull().sum())\n"
      ]
    },
    {
      "cell_type": "code",
      "execution_count": null,
      "metadata": {
        "colab": {
          "base_uri": "https://localhost:8080/",
          "height": 1000
        },
        "id": "R767E-s7qQHu",
        "outputId": "a58b20c0-5111-4927-c5ba-d5e526c0c5ea"
      },
      "outputs": [
        {
          "ename": "",
          "evalue": "",
          "output_type": "error",
          "traceback": [
            "\u001b[1;31mFailed to start the Kernel. \n",
            "\u001b[1;31mTypeError: type 'List' is not subscriptable. \n",
            "\u001b[1;31mView Jupyter <a href='command:jupyter.viewOutput'>log</a> for further details."
          ]
        }
      ],
      "source": [
        "# Handle outliers in numerical columns using IQR method\n",
        "for column in numerical_columns:\n",
        "    Q1 = df[column].quantile(0.25)\n",
        "    Q3 = df[column].quantile(0.75)\n",
        "    IQR = Q3 - Q1\n",
        "    lower_bound = Q1 - 1.5 * IQR\n",
        "    upper_bound = Q3 + 1.5 * IQR\n",
        "    df[column] = np.where((df[column] < lower_bound) | (df[column] > upper_bound),\n",
        "                          df[column].median(), df[column])\n",
        "\n",
        "# Verify outlier treatment\n",
        "for column in numerical_columns:\n",
        "    plt.figure(figsize=(10, 5))\n",
        "    sns.boxplot(x=df[column])\n",
        "    plt.title(f'Boxplot of {column} After Outlier Handling')\n",
        "    plt.show()\n"
      ]
    },
    {
      "cell_type": "code",
      "execution_count": null,
      "metadata": {},
      "outputs": [
        {
          "ename": "",
          "evalue": "",
          "output_type": "error",
          "traceback": [
            "\u001b[1;31mFailed to start the Kernel. \n",
            "\u001b[1;31mTypeError: type 'List' is not subscriptable. \n",
            "\u001b[1;31mView Jupyter <a href='command:jupyter.viewOutput'>log</a> for further details."
          ]
        }
      ],
      "source": [
        "# Befor filling the missing values into the data set we firstly check the outlire   Plot boxplots for numerical variables to find the outlire\n",
        "for column in numerical_columns:\n",
        "    plt.figure(figsize=(10, 5))\n",
        "    sns.boxplot(x=df[column])\n",
        "    plt.title(f'Boxplot of {column}')\n",
        "    plt.show()\n"
      ]
    },
    {
      "cell_type": "markdown",
      "metadata": {},
      "source": [
        "## Data Preprocessing\n",
        "\n",
        "Preprocessing involves preparing the data for analysis or modeling. It includes:\n",
        "\n",
        "### Handling Missing Values\n",
        "- Filling, imputing, or dropping missing data points.\n",
        "\n",
        "### Encoding Categorical Variables\n",
        "- Converting categorical variables into numerical formats that machine learning models can understand.\n",
        "\n",
        "### Scaling and Normalization\n",
        "- Adjusting the scale of numerical features to ensure they are on a similar scale.\n",
        "\n",
        "### Feature Engineering\n",
        "- Creating new features from existing data to improve model performance.\n",
        "\n",
        "### Data Cleaning\n",
        "- Removing or correcting erroneous data points.\n"
      ]
    },
    {
      "cell_type": "markdown",
      "metadata": {},
      "source": [
        "## Importing sklarn librare and theier some function for performing the data preprocessing"
      ]
    },
    {
      "cell_type": "code",
      "execution_count": null,
      "metadata": {},
      "outputs": [
        {
          "ename": "",
          "evalue": "",
          "output_type": "error",
          "traceback": [
            "\u001b[1;31mFailed to start the Kernel. \n",
            "\u001b[1;31mTypeError: type 'List' is not subscriptable. \n",
            "\u001b[1;31mView Jupyter <a href='command:jupyter.viewOutput'>log</a> for further details."
          ]
        }
      ],
      "source": [
        "from sklearn.impute import SimpleImputer\n",
        "from sklearn.preprocessing import LabelEncoder,OneHotEncoder\n",
        "from sklearn.compose import ColumnTransformer\n",
        "from sklearn.pipeline import Pipeline\n",
        "from sklearn.model_selection import train_test_split\n",
        "from sklearn.metrics import accuracy_score, classification_report\n",
        "from sklearn.preprocessing import StandardScaler"
      ]
    },
    {
      "cell_type": "markdown",
      "metadata": {},
      "source": [
        "## converting the target variable into numerical "
      ]
    },
    {
      "cell_type": "code",
      "execution_count": null,
      "metadata": {
        "id": "gal9-8p2qP_R"
      },
      "outputs": [
        {
          "ename": "",
          "evalue": "",
          "output_type": "error",
          "traceback": [
            "\u001b[1;31mFailed to start the Kernel. \n",
            "\u001b[1;31mTypeError: type 'List' is not subscriptable. \n",
            "\u001b[1;31mView Jupyter <a href='command:jupyter.viewOutput'>log</a> for further details."
          ]
        }
      ],
      "source": [
        "for i in df['loan_status'].unique():\n",
        "  if i == 'Paid':\n",
        "    df['loan_status'] = df['loan_status'].replace(i,1)\n",
        "  else:\n",
        "    df['loan_status'] = df['loan_status'].replace(i,0)"
      ]
    },
    {
      "cell_type": "markdown",
      "metadata": {},
      "source": [
        "## treating the missing values By using the Column transform"
      ]
    },
    {
      "cell_type": "code",
      "execution_count": null,
      "metadata": {},
      "outputs": [
        {
          "ename": "",
          "evalue": "",
          "output_type": "error",
          "traceback": [
            "\u001b[1;31mFailed to start the Kernel. \n",
            "\u001b[1;31mTypeError: type 'List' is not subscriptable. \n",
            "\u001b[1;31mView Jupyter <a href='command:jupyter.viewOutput'>log</a> for further details."
          ]
        }
      ],
      "source": [
        "# List of numerical and categorical features to fill\n",
        "num_features = ['mort_acc', 'pub_rec_bankruptcies', 'revol_util', 'num_actv_bc_tl', 'tot_cur_bal']\n",
        "cat_features = ['emp_title', 'emp_length', 'title']\n",
        "\n",
        "# Define the ColumnTransformer\n",
        "preprocessor = ColumnTransformer(\n",
        "    transformers=[\n",
        "        ('num', SimpleImputer(strategy='median'), num_features),\n",
        "        ('cat', SimpleImputer(strategy='most_frequent'), cat_features)\n",
        "    ])\n",
        "\n",
        "# Apply the transformations\n",
        "df[num_features + cat_features] = preprocessor.fit_transform(df)\n",
        "\n",
        "# Check the result\n",
        "print(df.isnull().sum())\n"
      ]
    },
    {
      "cell_type": "markdown",
      "metadata": {},
      "source": [
        "# handling the outliers"
      ]
    },
    {
      "cell_type": "code",
      "execution_count": null,
      "metadata": {},
      "outputs": [
        {
          "ename": "",
          "evalue": "",
          "output_type": "error",
          "traceback": [
            "\u001b[1;31mFailed to start the Kernel. \n",
            "\u001b[1;31mTypeError: type 'List' is not subscriptable. \n",
            "\u001b[1;31mView Jupyter <a href='command:jupyter.viewOutput'>log</a> for further details."
          ]
        }
      ],
      "source": [
        "# Handle outliers in numerical columns using IQR method\n",
        "for column in numerical_columns:\n",
        "    Q1 = df[column].quantile(0.25)\n",
        "    Q3 = df[column].quantile(0.75)\n",
        "    IQR = Q3 - Q1\n",
        "    lower_bound = Q1 - 1.5 * IQR\n",
        "    upper_bound = Q3 + 1.5 * IQR\n",
        "    df[column] = np.where((df[column] < lower_bound) | (df[column] > upper_bound),\n",
        "                          df[column].median(), df[column])\n",
        "\n",
        "# Verify outlier treatment\n",
        "for column in numerical_columns:\n",
        "    plt.figure(figsize=(10, 5))\n",
        "    sns.boxplot(x=df[column])\n",
        "    plt.title(f'Boxplot of {column} After Outlier Handling')\n",
        "    plt.show()\n"
      ]
    }
  ],
  "metadata": {
    "colab": {
      "provenance": []
    },
    "kernelspec": {
      "display_name": "Python 3",
      "name": "python3"
    },
    "language_info": {
      "codemirror_mode": {
        "name": "ipython",
        "version": 3
      },
      "file_extension": ".py",
      "mimetype": "text/x-python",
      "name": "python",
      "nbconvert_exporter": "python",
      "pygments_lexer": "ipython3",
      "version": "3.11.5"
    },
    "widgets": {
      "application/vnd.jupyter.widget-state+json": {
        "31f6775e23544043b20e15ee2c7fd503": {
          "model_module": "@jupyter-widgets/controls",
          "model_module_version": "1.5.0",
          "model_name": "DescriptionStyleModel",
          "state": {
            "_model_module": "@jupyter-widgets/controls",
            "_model_module_version": "1.5.0",
            "_model_name": "DescriptionStyleModel",
            "_view_count": null,
            "_view_module": "@jupyter-widgets/base",
            "_view_module_version": "1.2.0",
            "_view_name": "StyleView",
            "description_width": ""
          }
        },
        "417c6dc6414242bfada7b9047cd4bd1a": {
          "model_module": "@jupyter-widgets/controls",
          "model_module_version": "1.5.0",
          "model_name": "FloatProgressModel",
          "state": {
            "_dom_classes": [],
            "_model_module": "@jupyter-widgets/controls",
            "_model_module_version": "1.5.0",
            "_model_name": "FloatProgressModel",
            "_view_count": null,
            "_view_module": "@jupyter-widgets/controls",
            "_view_module_version": "1.5.0",
            "_view_name": "ProgressView",
            "bar_style": "success",
            "description": "",
            "description_tooltip": null,
            "layout": "IPY_MODEL_48af003a1f9a43ca89fd72955a2309d5",
            "max": 1,
            "min": 0,
            "orientation": "horizontal",
            "style": "IPY_MODEL_a7aea9ed2daf4ec39bbefddde4bfa699",
            "value": 1
          }
        },
        "444bec38b90b415aaca64ea681f87234": {
          "model_module": "@jupyter-widgets/controls",
          "model_module_version": "1.5.0",
          "model_name": "HTMLModel",
          "state": {
            "_dom_classes": [],
            "_model_module": "@jupyter-widgets/controls",
            "_model_module_version": "1.5.0",
            "_model_name": "HTMLModel",
            "_view_count": null,
            "_view_module": "@jupyter-widgets/controls",
            "_view_module_version": "1.5.0",
            "_view_name": "HTMLView",
            "description": "",
            "description_tooltip": null,
            "layout": "IPY_MODEL_b60a6c2e0ebc4436aee8c7ed7ec57002",
            "placeholder": "​",
            "style": "IPY_MODEL_31f6775e23544043b20e15ee2c7fd503",
            "value": "Done! Use &#x27;show&#x27; commands to display/save.   "
          }
        },
        "48af003a1f9a43ca89fd72955a2309d5": {
          "model_module": "@jupyter-widgets/base",
          "model_module_version": "1.2.0",
          "model_name": "LayoutModel",
          "state": {
            "_model_module": "@jupyter-widgets/base",
            "_model_module_version": "1.2.0",
            "_model_name": "LayoutModel",
            "_view_count": null,
            "_view_module": "@jupyter-widgets/base",
            "_view_module_version": "1.2.0",
            "_view_name": "LayoutView",
            "align_content": null,
            "align_items": null,
            "align_self": null,
            "border": null,
            "bottom": null,
            "display": null,
            "flex": "2",
            "flex_flow": null,
            "grid_area": null,
            "grid_auto_columns": null,
            "grid_auto_flow": null,
            "grid_auto_rows": null,
            "grid_column": null,
            "grid_gap": null,
            "grid_row": null,
            "grid_template_areas": null,
            "grid_template_columns": null,
            "grid_template_rows": null,
            "height": null,
            "justify_content": null,
            "justify_items": null,
            "left": null,
            "margin": null,
            "max_height": null,
            "max_width": null,
            "min_height": null,
            "min_width": null,
            "object_fit": null,
            "object_position": null,
            "order": null,
            "overflow": null,
            "overflow_x": null,
            "overflow_y": null,
            "padding": null,
            "right": null,
            "top": null,
            "visibility": null,
            "width": null
          }
        },
        "6f9fc30ca31547e7ba54c8f21830e80c": {
          "model_module": "@jupyter-widgets/controls",
          "model_module_version": "1.5.0",
          "model_name": "HTMLModel",
          "state": {
            "_dom_classes": [],
            "_model_module": "@jupyter-widgets/controls",
            "_model_module_version": "1.5.0",
            "_model_name": "HTMLModel",
            "_view_count": null,
            "_view_module": "@jupyter-widgets/controls",
            "_view_module_version": "1.5.0",
            "_view_name": "HTMLView",
            "description": "",
            "description_tooltip": null,
            "layout": "IPY_MODEL_a9b9932242b94512b812f0608a4e913f",
            "placeholder": "​",
            "style": "IPY_MODEL_7cc0104e1d8742ae8dce4bfc34164c94",
            "value": " [100%]   00:02 -&gt; (00:00 left)"
          }
        },
        "7cc0104e1d8742ae8dce4bfc34164c94": {
          "model_module": "@jupyter-widgets/controls",
          "model_module_version": "1.5.0",
          "model_name": "DescriptionStyleModel",
          "state": {
            "_model_module": "@jupyter-widgets/controls",
            "_model_module_version": "1.5.0",
            "_model_name": "DescriptionStyleModel",
            "_view_count": null,
            "_view_module": "@jupyter-widgets/base",
            "_view_module_version": "1.2.0",
            "_view_name": "StyleView",
            "description_width": ""
          }
        },
        "84ae07a0b991442ea808f67de3e0c66b": {
          "model_module": "@jupyter-widgets/base",
          "model_module_version": "1.2.0",
          "model_name": "LayoutModel",
          "state": {
            "_model_module": "@jupyter-widgets/base",
            "_model_module_version": "1.2.0",
            "_model_name": "LayoutModel",
            "_view_count": null,
            "_view_module": "@jupyter-widgets/base",
            "_view_module_version": "1.2.0",
            "_view_name": "LayoutView",
            "align_content": null,
            "align_items": null,
            "align_self": null,
            "border": null,
            "bottom": null,
            "display": "inline-flex",
            "flex": null,
            "flex_flow": "row wrap",
            "grid_area": null,
            "grid_auto_columns": null,
            "grid_auto_flow": null,
            "grid_auto_rows": null,
            "grid_column": null,
            "grid_gap": null,
            "grid_row": null,
            "grid_template_areas": null,
            "grid_template_columns": null,
            "grid_template_rows": null,
            "height": null,
            "justify_content": null,
            "justify_items": null,
            "left": null,
            "margin": null,
            "max_height": null,
            "max_width": null,
            "min_height": null,
            "min_width": null,
            "object_fit": null,
            "object_position": null,
            "order": null,
            "overflow": null,
            "overflow_x": null,
            "overflow_y": null,
            "padding": null,
            "right": null,
            "top": null,
            "visibility": null,
            "width": "100%"
          }
        },
        "a7aea9ed2daf4ec39bbefddde4bfa699": {
          "model_module": "@jupyter-widgets/controls",
          "model_module_version": "1.5.0",
          "model_name": "ProgressStyleModel",
          "state": {
            "_model_module": "@jupyter-widgets/controls",
            "_model_module_version": "1.5.0",
            "_model_name": "ProgressStyleModel",
            "_view_count": null,
            "_view_module": "@jupyter-widgets/base",
            "_view_module_version": "1.2.0",
            "_view_name": "StyleView",
            "bar_color": null,
            "description_width": ""
          }
        },
        "a9b9932242b94512b812f0608a4e913f": {
          "model_module": "@jupyter-widgets/base",
          "model_module_version": "1.2.0",
          "model_name": "LayoutModel",
          "state": {
            "_model_module": "@jupyter-widgets/base",
            "_model_module_version": "1.2.0",
            "_model_name": "LayoutModel",
            "_view_count": null,
            "_view_module": "@jupyter-widgets/base",
            "_view_module_version": "1.2.0",
            "_view_name": "LayoutView",
            "align_content": null,
            "align_items": null,
            "align_self": null,
            "border": null,
            "bottom": null,
            "display": null,
            "flex": null,
            "flex_flow": null,
            "grid_area": null,
            "grid_auto_columns": null,
            "grid_auto_flow": null,
            "grid_auto_rows": null,
            "grid_column": null,
            "grid_gap": null,
            "grid_row": null,
            "grid_template_areas": null,
            "grid_template_columns": null,
            "grid_template_rows": null,
            "height": null,
            "justify_content": null,
            "justify_items": null,
            "left": null,
            "margin": null,
            "max_height": null,
            "max_width": null,
            "min_height": null,
            "min_width": null,
            "object_fit": null,
            "object_position": null,
            "order": null,
            "overflow": null,
            "overflow_x": null,
            "overflow_y": null,
            "padding": null,
            "right": null,
            "top": null,
            "visibility": null,
            "width": null
          }
        },
        "b5b373e0a4104f79b898e0e9443e06f6": {
          "model_module": "@jupyter-widgets/controls",
          "model_module_version": "1.5.0",
          "model_name": "HBoxModel",
          "state": {
            "_dom_classes": [],
            "_model_module": "@jupyter-widgets/controls",
            "_model_module_version": "1.5.0",
            "_model_name": "HBoxModel",
            "_view_count": null,
            "_view_module": "@jupyter-widgets/controls",
            "_view_module_version": "1.5.0",
            "_view_name": "HBoxView",
            "box_style": "",
            "children": [
              "IPY_MODEL_444bec38b90b415aaca64ea681f87234",
              "IPY_MODEL_417c6dc6414242bfada7b9047cd4bd1a",
              "IPY_MODEL_6f9fc30ca31547e7ba54c8f21830e80c"
            ],
            "layout": "IPY_MODEL_84ae07a0b991442ea808f67de3e0c66b"
          }
        },
        "b60a6c2e0ebc4436aee8c7ed7ec57002": {
          "model_module": "@jupyter-widgets/base",
          "model_module_version": "1.2.0",
          "model_name": "LayoutModel",
          "state": {
            "_model_module": "@jupyter-widgets/base",
            "_model_module_version": "1.2.0",
            "_model_name": "LayoutModel",
            "_view_count": null,
            "_view_module": "@jupyter-widgets/base",
            "_view_module_version": "1.2.0",
            "_view_name": "LayoutView",
            "align_content": null,
            "align_items": null,
            "align_self": null,
            "border": null,
            "bottom": null,
            "display": null,
            "flex": null,
            "flex_flow": null,
            "grid_area": null,
            "grid_auto_columns": null,
            "grid_auto_flow": null,
            "grid_auto_rows": null,
            "grid_column": null,
            "grid_gap": null,
            "grid_row": null,
            "grid_template_areas": null,
            "grid_template_columns": null,
            "grid_template_rows": null,
            "height": null,
            "justify_content": null,
            "justify_items": null,
            "left": null,
            "margin": null,
            "max_height": null,
            "max_width": null,
            "min_height": null,
            "min_width": null,
            "object_fit": null,
            "object_position": null,
            "order": null,
            "overflow": null,
            "overflow_x": null,
            "overflow_y": null,
            "padding": null,
            "right": null,
            "top": null,
            "visibility": null,
            "width": null
          }
        }
      }
    }
  },
  "nbformat": 4,
  "nbformat_minor": 0
}
